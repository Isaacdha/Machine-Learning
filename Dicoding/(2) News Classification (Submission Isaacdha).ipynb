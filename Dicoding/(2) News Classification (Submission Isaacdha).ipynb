{
  "nbformat": 4,
  "nbformat_minor": 0,
  "metadata": {
    "colab": {
      "name": "News_Classification_Submission.ipynb",
      "provenance": []
    },
    "kernelspec": {
      "name": "python3",
      "display_name": "Python 3"
    },
    "language_info": {
      "name": "python"
    }
  },
  "cells": [
    {
      "cell_type": "code",
      "metadata": {
        "colab": {
          "base_uri": "https://localhost:8080/",
          "height": 237
        },
        "id": "IhE-uDFRmTSG",
        "outputId": "bf949e60-6bdf-4626-cd84-92035c3b5327"
      },
      "source": [
        "# Dependencies\n",
        "!pip install nltk\n",
        "import pandas as pd\n",
        "import re\n",
        "import matplotlib.pyplot as plt\n",
        "import tensorflow as tf\n",
        "\n",
        "from sklearn.model_selection import train_test_split\n",
        "\n",
        "from tensorflow.keras.preprocessing.text import Tokenizer\n",
        "from tensorflow.keras.preprocessing.sequence import pad_sequences\n",
        "from tensorflow.keras.optimizers import Adam\n",
        "from tensorflow.keras.models import Sequential\n",
        "from tensorflow.keras.layers import LSTM, Dense, Embedding, Dropout\n",
        "\n",
        "Data = pd.read_csv('/content/drive/My Drive/Dicoding/Submission/Submission_1/Data_Berita.csv', sep=';')\n",
        "Data.head()"
      ],
      "execution_count": 1,
      "outputs": [
        {
          "output_type": "stream",
          "text": [
            "Requirement already satisfied: nltk in /usr/local/lib/python3.7/dist-packages (3.2.5)\n",
            "Requirement already satisfied: six in /usr/local/lib/python3.7/dist-packages (from nltk) (1.15.0)\n"
          ],
          "name": "stdout"
        },
        {
          "output_type": "execute_result",
          "data": {
            "text/html": [
              "<div>\n",
              "<style scoped>\n",
              "    .dataframe tbody tr th:only-of-type {\n",
              "        vertical-align: middle;\n",
              "    }\n",
              "\n",
              "    .dataframe tbody tr th {\n",
              "        vertical-align: top;\n",
              "    }\n",
              "\n",
              "    .dataframe thead th {\n",
              "        text-align: right;\n",
              "    }\n",
              "</style>\n",
              "<table border=\"1\" class=\"dataframe\">\n",
              "  <thead>\n",
              "    <tr style=\"text-align: right;\">\n",
              "      <th></th>\n",
              "      <th>Story</th>\n",
              "      <th>Category</th>\n",
              "    </tr>\n",
              "  </thead>\n",
              "  <tbody>\n",
              "    <tr>\n",
              "      <th>0</th>\n",
              "      <td>But the most painful was the huge reversal in ...</td>\n",
              "      <td>Business</td>\n",
              "    </tr>\n",
              "    <tr>\n",
              "      <th>1</th>\n",
              "      <td>How formidable is the opposition alliance amon...</td>\n",
              "      <td>Politics</td>\n",
              "    </tr>\n",
              "    <tr>\n",
              "      <th>2</th>\n",
              "      <td>Most Asian currencies were trading lower today...</td>\n",
              "      <td>Business</td>\n",
              "    </tr>\n",
              "    <tr>\n",
              "      <th>3</th>\n",
              "      <td>If you want to answer any question, click on ‘...</td>\n",
              "      <td>Technology</td>\n",
              "    </tr>\n",
              "    <tr>\n",
              "      <th>4</th>\n",
              "      <td>In global markets, gold prices edged up today ...</td>\n",
              "      <td>Business</td>\n",
              "    </tr>\n",
              "  </tbody>\n",
              "</table>\n",
              "</div>"
            ],
            "text/plain": [
              "                                               Story    Category\n",
              "0  But the most painful was the huge reversal in ...    Business\n",
              "1  How formidable is the opposition alliance amon...    Politics\n",
              "2  Most Asian currencies were trading lower today...    Business\n",
              "3  If you want to answer any question, click on ‘...  Technology\n",
              "4  In global markets, gold prices edged up today ...    Business"
            ]
          },
          "metadata": {
            "tags": []
          },
          "execution_count": 1
        }
      ]
    },
    {
      "cell_type": "markdown",
      "metadata": {
        "id": "dHABqQByUved"
      },
      "source": [
        "Sumber Data https://www.kaggle.com/akash14/news-category-dataset"
      ]
    },
    {
      "cell_type": "code",
      "metadata": {
        "colab": {
          "base_uri": "https://localhost:8080/",
          "height": 450
        },
        "id": "sJYKrdv4IVCl",
        "outputId": "6d3017fc-ca7f-41c5-bc33-759672fd7857"
      },
      "source": [
        "# Preprocessing\n",
        "# Menghilangkan Baris yang memiliki data kosong\n",
        "Data.dropna(inplace=True)\n",
        "\n",
        "# Menghapus Tanda Baca pada Story\n",
        "Data['Story'] = Data['Story'].map(lambda x: re.sub(r'\\W+',' ', x))\n",
        "\n",
        "# Menghapus Stopwords\n",
        "import nltk\n",
        "nltk.download('stopwords')\n",
        "\n",
        "from nltk.corpus import stopwords\n",
        "stop = set(stopwords.words('english'))\n",
        "Data['Story'] = Data['Story'].apply(lambda x: ' '.join([word for word in x.split() if word not in (stop)]))\n",
        "\n",
        "Data"
      ],
      "execution_count": 2,
      "outputs": [
        {
          "output_type": "stream",
          "text": [
            "[nltk_data] Downloading package stopwords to /root/nltk_data...\n",
            "[nltk_data]   Package stopwords is already up-to-date!\n"
          ],
          "name": "stdout"
        },
        {
          "output_type": "execute_result",
          "data": {
            "text/html": [
              "<div>\n",
              "<style scoped>\n",
              "    .dataframe tbody tr th:only-of-type {\n",
              "        vertical-align: middle;\n",
              "    }\n",
              "\n",
              "    .dataframe tbody tr th {\n",
              "        vertical-align: top;\n",
              "    }\n",
              "\n",
              "    .dataframe thead th {\n",
              "        text-align: right;\n",
              "    }\n",
              "</style>\n",
              "<table border=\"1\" class=\"dataframe\">\n",
              "  <thead>\n",
              "    <tr style=\"text-align: right;\">\n",
              "      <th></th>\n",
              "      <th>Story</th>\n",
              "      <th>Category</th>\n",
              "    </tr>\n",
              "  </thead>\n",
              "  <tbody>\n",
              "    <tr>\n",
              "      <th>0</th>\n",
              "      <td>But painful huge reversal fee income unheard a...</td>\n",
              "      <td>Business</td>\n",
              "    </tr>\n",
              "    <tr>\n",
              "      <th>1</th>\n",
              "      <td>How formidable opposition alliance among Congr...</td>\n",
              "      <td>Politics</td>\n",
              "    </tr>\n",
              "    <tr>\n",
              "      <th>2</th>\n",
              "      <td>Most Asian currencies trading lower today Sout...</td>\n",
              "      <td>Business</td>\n",
              "    </tr>\n",
              "    <tr>\n",
              "      <th>3</th>\n",
              "      <td>If want answer question click Answer After cli...</td>\n",
              "      <td>Technology</td>\n",
              "    </tr>\n",
              "    <tr>\n",
              "      <th>4</th>\n",
              "      <td>In global markets gold prices edged today disa...</td>\n",
              "      <td>Business</td>\n",
              "    </tr>\n",
              "    <tr>\n",
              "      <th>...</th>\n",
              "      <td>...</td>\n",
              "      <td>...</td>\n",
              "    </tr>\n",
              "    <tr>\n",
              "      <th>7623</th>\n",
              "      <td>Karnataka Congress bastion also gave BJP first...</td>\n",
              "      <td>Politics</td>\n",
              "    </tr>\n",
              "    <tr>\n",
              "      <th>7624</th>\n",
              "      <td>The film also features Janhvi Kapoor revolve a...</td>\n",
              "      <td>Entertainment</td>\n",
              "    </tr>\n",
              "    <tr>\n",
              "      <th>7625</th>\n",
              "      <td>The database created bringing together crimina...</td>\n",
              "      <td>Technology</td>\n",
              "    </tr>\n",
              "    <tr>\n",
              "      <th>7626</th>\n",
              "      <td>The state uneasy relationship mainland since d...</td>\n",
              "      <td>Politics</td>\n",
              "    </tr>\n",
              "    <tr>\n",
              "      <th>7627</th>\n",
              "      <td>Virus stars Kunchacko Boban Tovino Thomas Indr...</td>\n",
              "      <td>Entertainment</td>\n",
              "    </tr>\n",
              "  </tbody>\n",
              "</table>\n",
              "<p>7628 rows × 2 columns</p>\n",
              "</div>"
            ],
            "text/plain": [
              "                                                  Story       Category\n",
              "0     But painful huge reversal fee income unheard a...       Business\n",
              "1     How formidable opposition alliance among Congr...       Politics\n",
              "2     Most Asian currencies trading lower today Sout...       Business\n",
              "3     If want answer question click Answer After cli...     Technology\n",
              "4     In global markets gold prices edged today disa...       Business\n",
              "...                                                 ...            ...\n",
              "7623  Karnataka Congress bastion also gave BJP first...       Politics\n",
              "7624  The film also features Janhvi Kapoor revolve a...  Entertainment\n",
              "7625  The database created bringing together crimina...     Technology\n",
              "7626  The state uneasy relationship mainland since d...       Politics\n",
              "7627  Virus stars Kunchacko Boban Tovino Thomas Indr...  Entertainment\n",
              "\n",
              "[7628 rows x 2 columns]"
            ]
          },
          "metadata": {
            "tags": []
          },
          "execution_count": 2
        }
      ]
    },
    {
      "cell_type": "code",
      "metadata": {
        "colab": {
          "base_uri": "https://localhost:8080/",
          "height": 359
        },
        "id": "f0GfymZFEIyi",
        "outputId": "e1285228-64e5-421d-a069-8a9f6e981ead"
      },
      "source": [
        "#count values for each category\n",
        "plt.figure(figsize=(10,8))\n",
        "Data.groupby('Category').count().plot.bar(ylim=0)\n",
        "plt.show()"
      ],
      "execution_count": 3,
      "outputs": [
        {
          "output_type": "display_data",
          "data": {
            "text/plain": [
              "<Figure size 720x576 with 0 Axes>"
            ]
          },
          "metadata": {
            "tags": []
          }
        },
        {
          "output_type": "display_data",
          "data": {
            "image/png": "[encoded data removed]",
            "text/plain": [
              "<Figure size 432x288 with 1 Axes>"
            ]
          },
          "metadata": {
            "tags": [],
            "needs_background": "light"
          }
        }
      ]
    },
    {
      "cell_type": "markdown",
      "metadata": {
        "id": "ZDK2kNY7UUCW"
      },
      "source": [
        "Jumlah Setiap Kelas hampir sama, Sehingga tidak diperlukan perlakuan lebih lanjut\n"
      ]
    },
    {
      "cell_type": "code",
      "metadata": {
        "colab": {
          "base_uri": "https://localhost:8080/",
          "height": 415
        },
        "id": "vR0836n_Cvwt",
        "outputId": "68a94cfc-c0a0-4561-b0cf-bfeb79ee196a"
      },
      "source": [
        "category = pd.get_dummies(Data.Category)\n",
        "Data = pd.concat([Data, category], axis=1)\n",
        "Data = Data.drop(columns='Category')\n",
        "Data"
      ],
      "execution_count": 4,
      "outputs": [
        {
          "output_type": "execute_result",
          "data": {
            "text/html": [
              "<div>\n",
              "<style scoped>\n",
              "    .dataframe tbody tr th:only-of-type {\n",
              "        vertical-align: middle;\n",
              "    }\n",
              "\n",
              "    .dataframe tbody tr th {\n",
              "        vertical-align: top;\n",
              "    }\n",
              "\n",
              "    .dataframe thead th {\n",
              "        text-align: right;\n",
              "    }\n",
              "</style>\n",
              "<table border=\"1\" class=\"dataframe\">\n",
              "  <thead>\n",
              "    <tr style=\"text-align: right;\">\n",
              "      <th></th>\n",
              "      <th>Story</th>\n",
              "      <th>Business</th>\n",
              "      <th>Entertainment</th>\n",
              "      <th>Politics</th>\n",
              "      <th>Technology</th>\n",
              "    </tr>\n",
              "  </thead>\n",
              "  <tbody>\n",
              "    <tr>\n",
              "      <th>0</th>\n",
              "      <td>But painful huge reversal fee income unheard a...</td>\n",
              "      <td>1</td>\n",
              "      <td>0</td>\n",
              "      <td>0</td>\n",
              "      <td>0</td>\n",
              "    </tr>\n",
              "    <tr>\n",
              "      <th>1</th>\n",
              "      <td>How formidable opposition alliance among Congr...</td>\n",
              "      <td>0</td>\n",
              "      <td>0</td>\n",
              "      <td>1</td>\n",
              "      <td>0</td>\n",
              "    </tr>\n",
              "    <tr>\n",
              "      <th>2</th>\n",
              "      <td>Most Asian currencies trading lower today Sout...</td>\n",
              "      <td>1</td>\n",
              "      <td>0</td>\n",
              "      <td>0</td>\n",
              "      <td>0</td>\n",
              "    </tr>\n",
              "    <tr>\n",
              "      <th>3</th>\n",
              "      <td>If want answer question click Answer After cli...</td>\n",
              "      <td>0</td>\n",
              "      <td>0</td>\n",
              "      <td>0</td>\n",
              "      <td>1</td>\n",
              "    </tr>\n",
              "    <tr>\n",
              "      <th>4</th>\n",
              "      <td>In global markets gold prices edged today disa...</td>\n",
              "      <td>1</td>\n",
              "      <td>0</td>\n",
              "      <td>0</td>\n",
              "      <td>0</td>\n",
              "    </tr>\n",
              "    <tr>\n",
              "      <th>...</th>\n",
              "      <td>...</td>\n",
              "      <td>...</td>\n",
              "      <td>...</td>\n",
              "      <td>...</td>\n",
              "      <td>...</td>\n",
              "    </tr>\n",
              "    <tr>\n",
              "      <th>7623</th>\n",
              "      <td>Karnataka Congress bastion also gave BJP first...</td>\n",
              "      <td>0</td>\n",
              "      <td>0</td>\n",
              "      <td>1</td>\n",
              "      <td>0</td>\n",
              "    </tr>\n",
              "    <tr>\n",
              "      <th>7624</th>\n",
              "      <td>The film also features Janhvi Kapoor revolve a...</td>\n",
              "      <td>0</td>\n",
              "      <td>1</td>\n",
              "      <td>0</td>\n",
              "      <td>0</td>\n",
              "    </tr>\n",
              "    <tr>\n",
              "      <th>7625</th>\n",
              "      <td>The database created bringing together crimina...</td>\n",
              "      <td>0</td>\n",
              "      <td>0</td>\n",
              "      <td>0</td>\n",
              "      <td>1</td>\n",
              "    </tr>\n",
              "    <tr>\n",
              "      <th>7626</th>\n",
              "      <td>The state uneasy relationship mainland since d...</td>\n",
              "      <td>0</td>\n",
              "      <td>0</td>\n",
              "      <td>1</td>\n",
              "      <td>0</td>\n",
              "    </tr>\n",
              "    <tr>\n",
              "      <th>7627</th>\n",
              "      <td>Virus stars Kunchacko Boban Tovino Thomas Indr...</td>\n",
              "      <td>0</td>\n",
              "      <td>1</td>\n",
              "      <td>0</td>\n",
              "      <td>0</td>\n",
              "    </tr>\n",
              "  </tbody>\n",
              "</table>\n",
              "<p>7628 rows × 5 columns</p>\n",
              "</div>"
            ],
            "text/plain": [
              "                                                  Story  ...  Technology\n",
              "0     But painful huge reversal fee income unheard a...  ...           0\n",
              "1     How formidable opposition alliance among Congr...  ...           0\n",
              "2     Most Asian currencies trading lower today Sout...  ...           0\n",
              "3     If want answer question click Answer After cli...  ...           1\n",
              "4     In global markets gold prices edged today disa...  ...           0\n",
              "...                                                 ...  ...         ...\n",
              "7623  Karnataka Congress bastion also gave BJP first...  ...           0\n",
              "7624  The film also features Janhvi Kapoor revolve a...  ...           0\n",
              "7625  The database created bringing together crimina...  ...           1\n",
              "7626  The state uneasy relationship mainland since d...  ...           0\n",
              "7627  Virus stars Kunchacko Boban Tovino Thomas Indr...  ...           0\n",
              "\n",
              "[7628 rows x 5 columns]"
            ]
          },
          "metadata": {
            "tags": []
          },
          "execution_count": 4
        }
      ]
    },
    {
      "cell_type": "code",
      "metadata": {
        "id": "vg4TNcazEGSC"
      },
      "source": [
        "#Convert Data string ke np.array\n",
        "text = Data['Story'].astype(str)\n",
        "label = Data[['Business','Entertainment','Politics','Technology']].values\n",
        "\n",
        "#Split Data 80,20\n",
        "story_train, story_test, label_train, label_test = train_test_split(text, label,test_size = 0.2)"
      ],
      "execution_count": 5,
      "outputs": []
    },
    {
      "cell_type": "code",
      "metadata": {
        "id": "pYtn1mXiJptj"
      },
      "source": [
        "#Tokenizing\n",
        "token = Tokenizer(num_words= 10000, oov_token = 'x')\n",
        "\n",
        "token.fit_on_texts(story_train)\n",
        "token.fit_on_texts(story_test)\n",
        "tok_train = token.texts_to_sequences(story_train)\n",
        "tok_test= token.texts_to_sequences(story_test)\n",
        "\n",
        "#Padding\n",
        "pad_train = pad_sequences(tok_train)\n",
        "pad_test = pad_sequences(tok_test)"
      ],
      "execution_count": 6,
      "outputs": []
    },
    {
      "cell_type": "markdown",
      "metadata": {
        "id": "1WfXYqtrURK3"
      },
      "source": [
        "Membuat Model"
      ]
    },
    {
      "cell_type": "code",
      "metadata": {
        "id": "dqUwHQviMTXg"
      },
      "source": [
        "#Membuat Model Sequential\n",
        "Model = tf.keras.Sequential([\n",
        "    Embedding(input_dim=10000, output_dim=16),\n",
        "    LSTM(64),\n",
        "    Dense(128, activation='elu'),\n",
        "    Dense(256, activation='elu'),\n",
        "    Dense(128, activation='elu'),\n",
        "    Dense(64, activation='selu'),\n",
        "    Dropout(0.5),\n",
        "    Dense(4, activation='softmax')\n",
        "])\n",
        "\n",
        "#Setting Optimizer Adam\n",
        "Adam(learning_rate = 0.001, name = 'Adam')\n",
        "\n",
        "#Compile Model\n",
        "Model.compile(loss='categorical_crossentropy',\n",
        "              optimizer='Adam',\n",
        "              metrics=['accuracy'])"
      ],
      "execution_count": 7,
      "outputs": []
    },
    {
      "cell_type": "code",
      "metadata": {
        "id": "tyqKlVxiK92M"
      },
      "source": [
        "#Set Callback\n",
        "class Panggilkembali(tf.keras.callbacks.Callback):\n",
        "  def on_epoch_end(self, epoch, logs={}):\n",
        "    if(logs.get('val_accuracy')>0.95):\n",
        "      print(\"\\nAkurasi validasi sudah > 95%!\")\n",
        "      self.model.stop_training = True\n",
        "callbacks = Panggilkembali()"
      ],
      "execution_count": 9,
      "outputs": []
    },
    {
      "cell_type": "code",
      "metadata": {
        "colab": {
          "base_uri": "https://localhost:8080/"
        },
        "id": "hK-KQprsNMkS",
        "outputId": "39f49d06-2439-4aa3-a43c-0a4e0ec3f3ed"
      },
      "source": [
        "#Train Model\n",
        "history = Model.fit(pad_train, label_train, epochs=100, validation_data=(pad_test, label_test), verbose=3, callbacks=[callbacks])"
      ],
      "execution_count": 10,
      "outputs": [
        {
          "output_type": "stream",
          "text": [
            "Epoch 1/100\n",
            "Epoch 2/100\n",
            "Epoch 3/100\n",
            "Epoch 4/100\n",
            "Epoch 5/100\n",
            "Epoch 6/100\n",
            "\n",
            "Akurasi validasi sudah > 95%!\n"
          ],
          "name": "stdout"
        }
      ]
    },
    {
      "cell_type": "code",
      "metadata": {
        "colab": {
          "base_uri": "https://localhost:8080/",
          "height": 573
        },
        "id": "FfLpr-F3OY-Y",
        "outputId": "e18a411e-601c-47da-ca75-48c5db6676d0"
      },
      "source": [
        "#acc plot\n",
        "plt.plot(history.history['accuracy'])\n",
        "plt.plot(history.history['val_accuracy'])\n",
        "plt.title('Model Accuracy')\n",
        "plt.ylabel('Accuracy')\n",
        "plt.xlabel('Epoch')\n",
        "plt.legend(['train', 'test'], loc='lower right')\n",
        "plt.show()\n",
        "\n",
        "#loss plot\n",
        "plt.plot(history.history['loss'])\n",
        "plt.plot(history.history['val_loss'])\n",
        "plt.title('Model Loss')\n",
        "plt.ylabel('Loss')\n",
        "plt.xlabel('Epoch')\n",
        "plt.legend(['train', 'test'], loc='upper left')\n",
        "plt.show()"
      ],
      "execution_count": 11,
      "outputs": [
        {
          "output_type": "display_data",
          "data": {
            "image/png": "[encoded data removed]",
            "text/plain": [
              "<Figure size 432x288 with 1 Axes>"
            ]
          },
          "metadata": {
            "tags": [],
            "needs_background": "light"
          }
        },
        {
          "output_type": "display_data",
          "data": {
            "image/png": "[encoded data removed]",
            "text/plain": [
              "<Figure size 432x288 with 1 Axes>"
            ]
          },
          "metadata": {
            "tags": [],
            "needs_background": "light"
          }
        }
      ]
    },
    {
      "cell_type": "code",
      "metadata": {
        "colab": {
          "base_uri": "https://localhost:8080/"
        },
        "id": "3sdW0fsLDEn6",
        "outputId": "c8020c28-69ca-448b-9565-3a981202868b"
      },
      "source": [
        "Model.evaluate(pad_test, label_test)"
      ],
      "execution_count": 14,
      "outputs": [
        {
          "output_type": "stream",
          "text": [
            "48/48 [==============================] - 4s 83ms/step - loss: 0.2348 - accuracy: 0.9541\n"
          ],
          "name": "stdout"
        },
        {
          "output_type": "execute_result",
          "data": {
            "text/plain": [
              "[0.2348122000694275, 0.9541284441947937]"
            ]
          },
          "metadata": {
            "tags": []
          },
          "execution_count": 14
        }
      ]
    },
    {
      "cell_type": "markdown",
      "metadata": {
        "id": "jg4hglz0UF7P"
      },
      "source": [
        "Akurasi Model pada Test (Val) Dataset telah 95%"
      ]
    },
    {
      "cell_type": "code",
      "metadata": {
        "colab": {
          "base_uri": "https://localhost:8080/"
        },
        "id": "aCDnR-qhVO8-",
        "outputId": "8ce6c483-c6ad-413d-a44d-4ecb0f91d4af"
      },
      "source": [
        "Model.evaluate(pad_train, label_train)"
      ],
      "execution_count": 15,
      "outputs": [
        {
          "output_type": "stream",
          "text": [
            "191/191 [==============================] - 15s 75ms/step - loss: 0.0076 - accuracy: 0.9971\n"
          ],
          "name": "stdout"
        },
        {
          "output_type": "execute_result",
          "data": {
            "text/plain": [
              "[0.007594441995024681, 0.9970501661300659]"
            ]
          },
          "metadata": {
            "tags": []
          },
          "execution_count": 15
        }
      ]
    },
    {
      "cell_type": "markdown",
      "metadata": {
        "id": "SgJ8OAJsVdbC"
      },
      "source": [
        "Akurasi Model pada Train Dataset telah 99,7%"
      ]
    }
  ]
}
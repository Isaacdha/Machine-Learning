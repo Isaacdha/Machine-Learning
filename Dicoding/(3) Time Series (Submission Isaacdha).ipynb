{
  "nbformat": 4,
  "nbformat_minor": 0,
  "metadata": {
    "colab": {
      "name": "Time Series.ipynb",
      "provenance": [],
      "collapsed_sections": []
    },
    "kernelspec": {
      "name": "python3",
      "display_name": "Python 3"
    },
    "language_info": {
      "name": "python"
    },
    "accelerator": "GPU"
  },
  "cells": [
    {
      "cell_type": "code",
      "metadata": {
        "id": "BVwX4IJ0s5Qp"
      },
      "source": [
        "#Dependecies\n",
        "import os\n",
        "import numpy as np\n",
        "import pandas as pd\n",
        "import tensorflow as tf\n",
        "from tensorflow import keras\n",
        "from keras.models import Sequential\n",
        "from sklearn.model_selection import train_test_split\n",
        "from keras.layers import Bidirectional, Dropout, Activation, Dense, LSTM, CuDNNLSTM\n",
        "\n",
        "import matplotlib.pyplot as plt\n",
        "import seaborn as sns\n",
        "from matplotlib import rc\n",
        "from pylab import rcParams\n",
        "from sklearn.preprocessing import MinMaxScaler\n",
        "\n",
        "#setting the plot\n",
        "%matplotlib inline\n",
        "rcParams['figure.figsize'] = 14, 8\n",
        "sns.set(style='whitegrid', palette='muted', font_scale=1.5)\n"
      ],
      "execution_count": 1,
      "outputs": []
    },
    {
      "cell_type": "code",
      "metadata": {
        "id": "EKX8Q5BTthaa",
        "colab": {
          "base_uri": "https://localhost:8080/",
          "height": 415
        },
        "outputId": "13aacf9a-54a8-4620-ec5a-fa9fec87f8ef"
      },
      "source": [
        "#Input Data\n",
        "Data = pd.read_csv('/content/drive/My Drive/Dicoding/Submission/Submission_2/Coin_Ethereum.csv', parse_dates=['Date'])\n",
        "Data"
      ],
      "execution_count": 2,
      "outputs": [
        {
          "output_type": "execute_result",
          "data": {
            "text/html": [
              "<div>\n",
              "<style scoped>\n",
              "    .dataframe tbody tr th:only-of-type {\n",
              "        vertical-align: middle;\n",
              "    }\n",
              "\n",
              "    .dataframe tbody tr th {\n",
              "        vertical-align: top;\n",
              "    }\n",
              "\n",
              "    .dataframe thead th {\n",
              "        text-align: right;\n",
              "    }\n",
              "</style>\n",
              "<table border=\"1\" class=\"dataframe\">\n",
              "  <thead>\n",
              "    <tr style=\"text-align: right;\">\n",
              "      <th></th>\n",
              "      <th>SNo</th>\n",
              "      <th>Name</th>\n",
              "      <th>Symbol</th>\n",
              "      <th>Date</th>\n",
              "      <th>High</th>\n",
              "      <th>Low</th>\n",
              "      <th>Open</th>\n",
              "      <th>Close</th>\n",
              "      <th>Volume</th>\n",
              "      <th>Marketcap</th>\n",
              "    </tr>\n",
              "  </thead>\n",
              "  <tbody>\n",
              "    <tr>\n",
              "      <th>0</th>\n",
              "      <td>1</td>\n",
              "      <td>Ethereum</td>\n",
              "      <td>ETH</td>\n",
              "      <td>2015-08-08 23:59:59</td>\n",
              "      <td>2.798810</td>\n",
              "      <td>0.714725</td>\n",
              "      <td>2.793760</td>\n",
              "      <td>0.753325</td>\n",
              "      <td>6.741880e+05</td>\n",
              "      <td>4.548689e+07</td>\n",
              "    </tr>\n",
              "    <tr>\n",
              "      <th>1</th>\n",
              "      <td>2</td>\n",
              "      <td>Ethereum</td>\n",
              "      <td>ETH</td>\n",
              "      <td>2015-08-09 23:59:59</td>\n",
              "      <td>0.879810</td>\n",
              "      <td>0.629191</td>\n",
              "      <td>0.706136</td>\n",
              "      <td>0.701897</td>\n",
              "      <td>5.321700e+05</td>\n",
              "      <td>4.239957e+07</td>\n",
              "    </tr>\n",
              "    <tr>\n",
              "      <th>2</th>\n",
              "      <td>3</td>\n",
              "      <td>Ethereum</td>\n",
              "      <td>ETH</td>\n",
              "      <td>2015-08-10 23:59:59</td>\n",
              "      <td>0.729854</td>\n",
              "      <td>0.636546</td>\n",
              "      <td>0.713989</td>\n",
              "      <td>0.708448</td>\n",
              "      <td>4.052830e+05</td>\n",
              "      <td>4.281836e+07</td>\n",
              "    </tr>\n",
              "    <tr>\n",
              "      <th>3</th>\n",
              "      <td>4</td>\n",
              "      <td>Ethereum</td>\n",
              "      <td>ETH</td>\n",
              "      <td>2015-08-11 23:59:59</td>\n",
              "      <td>1.131410</td>\n",
              "      <td>0.663235</td>\n",
              "      <td>0.708087</td>\n",
              "      <td>1.067860</td>\n",
              "      <td>1.463100e+06</td>\n",
              "      <td>6.456929e+07</td>\n",
              "    </tr>\n",
              "    <tr>\n",
              "      <th>4</th>\n",
              "      <td>5</td>\n",
              "      <td>Ethereum</td>\n",
              "      <td>ETH</td>\n",
              "      <td>2015-08-12 23:59:59</td>\n",
              "      <td>1.289940</td>\n",
              "      <td>0.883608</td>\n",
              "      <td>1.058750</td>\n",
              "      <td>1.217440</td>\n",
              "      <td>2.150620e+06</td>\n",
              "      <td>7.364501e+07</td>\n",
              "    </tr>\n",
              "    <tr>\n",
              "      <th>...</th>\n",
              "      <td>...</td>\n",
              "      <td>...</td>\n",
              "      <td>...</td>\n",
              "      <td>...</td>\n",
              "      <td>...</td>\n",
              "      <td>...</td>\n",
              "      <td>...</td>\n",
              "      <td>...</td>\n",
              "      <td>...</td>\n",
              "      <td>...</td>\n",
              "    </tr>\n",
              "    <tr>\n",
              "      <th>2155</th>\n",
              "      <td>2156</td>\n",
              "      <td>Ethereum</td>\n",
              "      <td>ETH</td>\n",
              "      <td>2021-07-02 23:59:59</td>\n",
              "      <td>2155.596496</td>\n",
              "      <td>2021.824808</td>\n",
              "      <td>2109.892677</td>\n",
              "      <td>2150.040364</td>\n",
              "      <td>3.179621e+10</td>\n",
              "      <td>2.505527e+11</td>\n",
              "    </tr>\n",
              "    <tr>\n",
              "      <th>2156</th>\n",
              "      <td>2157</td>\n",
              "      <td>Ethereum</td>\n",
              "      <td>ETH</td>\n",
              "      <td>2021-07-03 23:59:59</td>\n",
              "      <td>2237.567155</td>\n",
              "      <td>2117.590013</td>\n",
              "      <td>2150.835025</td>\n",
              "      <td>2226.114282</td>\n",
              "      <td>1.743336e+10</td>\n",
              "      <td>2.594475e+11</td>\n",
              "    </tr>\n",
              "    <tr>\n",
              "      <th>2157</th>\n",
              "      <td>2158</td>\n",
              "      <td>Ethereum</td>\n",
              "      <td>ETH</td>\n",
              "      <td>2021-07-04 23:59:59</td>\n",
              "      <td>2384.286857</td>\n",
              "      <td>2190.837703</td>\n",
              "      <td>2226.550382</td>\n",
              "      <td>2321.724112</td>\n",
              "      <td>1.878711e+10</td>\n",
              "      <td>2.706217e+11</td>\n",
              "    </tr>\n",
              "    <tr>\n",
              "      <th>2158</th>\n",
              "      <td>2159</td>\n",
              "      <td>Ethereum</td>\n",
              "      <td>ETH</td>\n",
              "      <td>2021-07-05 23:59:59</td>\n",
              "      <td>2321.922836</td>\n",
              "      <td>2163.041394</td>\n",
              "      <td>2321.922836</td>\n",
              "      <td>2198.582464</td>\n",
              "      <td>2.010379e+10</td>\n",
              "      <td>2.562978e+11</td>\n",
              "    </tr>\n",
              "    <tr>\n",
              "      <th>2159</th>\n",
              "      <td>2160</td>\n",
              "      <td>Ethereum</td>\n",
              "      <td>ETH</td>\n",
              "      <td>2021-07-06 23:59:59</td>\n",
              "      <td>2346.294874</td>\n",
              "      <td>2197.919385</td>\n",
              "      <td>2197.919385</td>\n",
              "      <td>2324.679449</td>\n",
              "      <td>2.089186e+10</td>\n",
              "      <td>2.710286e+11</td>\n",
              "    </tr>\n",
              "  </tbody>\n",
              "</table>\n",
              "<p>2160 rows × 10 columns</p>\n",
              "</div>"
            ],
            "text/plain": [
              "       SNo      Name Symbol  ...        Close        Volume     Marketcap\n",
              "0        1  Ethereum    ETH  ...     0.753325  6.741880e+05  4.548689e+07\n",
              "1        2  Ethereum    ETH  ...     0.701897  5.321700e+05  4.239957e+07\n",
              "2        3  Ethereum    ETH  ...     0.708448  4.052830e+05  4.281836e+07\n",
              "3        4  Ethereum    ETH  ...     1.067860  1.463100e+06  6.456929e+07\n",
              "4        5  Ethereum    ETH  ...     1.217440  2.150620e+06  7.364501e+07\n",
              "...    ...       ...    ...  ...          ...           ...           ...\n",
              "2155  2156  Ethereum    ETH  ...  2150.040364  3.179621e+10  2.505527e+11\n",
              "2156  2157  Ethereum    ETH  ...  2226.114282  1.743336e+10  2.594475e+11\n",
              "2157  2158  Ethereum    ETH  ...  2321.724112  1.878711e+10  2.706217e+11\n",
              "2158  2159  Ethereum    ETH  ...  2198.582464  2.010379e+10  2.562978e+11\n",
              "2159  2160  Ethereum    ETH  ...  2324.679449  2.089186e+10  2.710286e+11\n",
              "\n",
              "[2160 rows x 10 columns]"
            ]
          },
          "metadata": {
            "tags": []
          },
          "execution_count": 2
        }
      ]
    },
    {
      "cell_type": "markdown",
      "metadata": {
        "id": "7SOybr5bhuVk"
      },
      "source": [
        "Sumber Data : https://www.kaggle.com/sudalairajkumar/cryptocurrencypricehistory?select=coin_Ethereum.csv"
      ]
    },
    {
      "cell_type": "code",
      "metadata": {
        "id": "uZdKeSAMETwL"
      },
      "source": [
        "#Drop Baris Kosong\n",
        "Data.dropna(inplace=True)\n",
        "\n",
        "#Mengambil data yang diperlukan\n",
        "Harga = Data['Close'].values\n",
        "Tanggal = Data['Date'].values"
      ],
      "execution_count": 3,
      "outputs": []
    },
    {
      "cell_type": "code",
      "metadata": {
        "colab": {
          "base_uri": "https://localhost:8080/",
          "height": 315
        },
        "id": "czcXicpXI5xJ",
        "outputId": "1d8ef0a8-3818-41e6-eb05-99e23d9e8131"
      },
      "source": [
        "#Bentuk Plot Time Series\n",
        "plt.plot(Tanggal, Harga)\n",
        "plt.xlabel('Tanggal')\n",
        "plt.ylabel('Harga (USD)')"
      ],
      "execution_count": 4,
      "outputs": [
        {
          "output_type": "execute_result",
          "data": {
            "text/plain": [
              "Text(0, 0.5, 'Harga (USD)')"
            ]
          },
          "metadata": {
            "tags": []
          },
          "execution_count": 4
        },
        {
          "output_type": "display_data",
          "data": {
            "image/png": "[encoded data removed]",
            "text/plain": [
              "<Figure size 432x288 with 1 Axes>"
            ]
          },
          "metadata": {
            "tags": [],
            "needs_background": "light"
          }
        }
      ]
    },
    {
      "cell_type": "code",
      "metadata": {
        "id": "dqFTvTwiNXsa"
      },
      "source": [
        "#Mengonvert Data menjadi Data yang diaccept Model\n",
        "def windowed_dataset(series, window_size, batch_size, shuffle_buffer):\n",
        "    series = tf.expand_dims(series, axis=-1)\n",
        "    ds = tf.data.Dataset.from_tensor_slices(series)\n",
        "    ds = ds.window(window_size + 1, shift=1, drop_remainder=True)\n",
        "    ds = ds.flat_map(lambda w: w.batch(window_size + 1))\n",
        "    ds = ds.shuffle(shuffle_buffer)\n",
        "    ds = ds.map(lambda w: (w[:-1], w[-1:]))\n",
        "    return ds.batch(batch_size).prefetch(1)"
      ],
      "execution_count": 5,
      "outputs": []
    },
    {
      "cell_type": "code",
      "metadata": {
        "id": "wdgjLYDqfsVC"
      },
      "source": [
        "#Membuat Model Sequensial\n",
        "Model = tf.keras.models.Sequential([\n",
        "  tf.keras.layers.Conv1D(filters=32, kernel_size=5,strides=1,padding='causal',activation='relu',input_shape=[None,1]),\n",
        "  tf.keras.layers.LSTM(64, return_sequences=True),\n",
        "  tf.keras.layers.LSTM(64),\n",
        "  tf.keras.layers.Dense(128, activation=\"relu\"),\n",
        "  tf.keras.layers.Dense(64, activation=\"relu\"),\n",
        "  tf.keras.layers.Dense(32, activation=\"relu\"),\n",
        "  tf.keras.layers.Dense(16, activation=\"relu\"),\n",
        "  tf.keras.layers.Dense(1),\n",
        "  tf.keras.layers.Lambda(lambda x: x*400)\n",
        "])"
      ],
      "execution_count": 6,
      "outputs": []
    },
    {
      "cell_type": "code",
      "metadata": {
        "id": "NIrqbnfVgwQJ"
      },
      "source": [
        "#Split Dataset Yang Telah Dibuat\n",
        "x_train, x_test, y_train, y_test = train_test_split(Harga, Tanggal, test_size = 0.2, random_state = 0, shuffle = False)"
      ],
      "execution_count": 9,
      "outputs": []
    },
    {
      "cell_type": "code",
      "metadata": {
        "id": "eQRO4qQRg0hh"
      },
      "source": [
        "#Memwindowing Dataset\n",
        "train_set = windowed_dataset(x_train, window_size=60, batch_size=120, shuffle_buffer=1200)\n",
        "test_set = windowed_dataset(x_test, window_size=60, batch_size=120, shuffle_buffer=1200)"
      ],
      "execution_count": 10,
      "outputs": []
    },
    {
      "cell_type": "code",
      "metadata": {
        "id": "XJa8vuvtfjmc"
      },
      "source": [
        "#Optimizer\n",
        "Optimizer = tf.keras.optimizers.Adam(learning_rate=1e-8)\n",
        "\n",
        "#Learning Rate dari Lamda\n",
        "lr_schedule = tf.keras.callbacks.LearningRateScheduler(lambda epoch: 1e-8 * 10**(epoch / 20))\n",
        "\n",
        "#Compile Model\n",
        "Model.compile(loss=tf.keras.losses.Huber(), optimizer=optimizer, metrics=[\"mae\"])"
      ],
      "execution_count": 12,
      "outputs": []
    },
    {
      "cell_type": "code",
      "metadata": {
        "colab": {
          "base_uri": "https://localhost:8080/"
        },
        "id": "0MoxRP8sgRkj",
        "outputId": "0091453c-6973-46af-c1e4-807a67d7db1c"
      },
      "source": [
        "#10% Syarat Dicoding MAE\n",
        "m = 0.1*(Harga.max()-Harga.min())\n",
        "\n",
        "print('Batas MAE =',m, 'Dollar')"
      ],
      "execution_count": 16,
      "outputs": [
        {
          "output_type": "stream",
          "text": [
            "Batas MAE = 416.8266219653342 Dollar\n"
          ],
          "name": "stdout"
        }
      ]
    },
    {
      "cell_type": "code",
      "metadata": {
        "colab": {
          "base_uri": "https://localhost:8080/"
        },
        "id": "vra-eh5sgk0R",
        "outputId": "a8d94555-6a88-44c1-ec40-7582200c2ccc"
      },
      "source": [
        "#Train Model\n",
        "history = Model.fit(train_set ,epochs=30, validation_data= test_set)"
      ],
      "execution_count": 18,
      "outputs": [
        {
          "output_type": "stream",
          "text": [
            "Epoch 1/30\n",
            "14/14 [==============================] - 36s 112ms/step - loss: 227.4663 - mae: 227.9663 - val_loss: 1272.2325 - val_mae: 1272.7325\n",
            "Epoch 2/30\n",
            "14/14 [==============================] - 0s 21ms/step - loss: 227.4562 - mae: 227.9562 - val_loss: 1272.2224 - val_mae: 1272.7224\n",
            "Epoch 3/30\n",
            "14/14 [==============================] - 0s 22ms/step - loss: 227.4461 - mae: 227.9461 - val_loss: 1272.2124 - val_mae: 1272.7124\n",
            "Epoch 4/30\n",
            "14/14 [==============================] - 0s 20ms/step - loss: 227.4360 - mae: 227.9360 - val_loss: 1272.2021 - val_mae: 1272.7021\n",
            "Epoch 5/30\n",
            "14/14 [==============================] - 0s 20ms/step - loss: 227.4259 - mae: 227.9259 - val_loss: 1272.1921 - val_mae: 1272.6921\n",
            "Epoch 6/30\n",
            "14/14 [==============================] - 0s 20ms/step - loss: 227.4158 - mae: 227.9158 - val_loss: 1272.1820 - val_mae: 1272.6820\n",
            "Epoch 7/30\n",
            "14/14 [==============================] - 0s 19ms/step - loss: 227.4058 - mae: 227.9058 - val_loss: 1272.1720 - val_mae: 1272.6720\n",
            "Epoch 8/30\n",
            "14/14 [==============================] - 0s 21ms/step - loss: 227.3956 - mae: 227.8956 - val_loss: 1272.1616 - val_mae: 1272.6616\n",
            "Epoch 9/30\n",
            "14/14 [==============================] - 0s 20ms/step - loss: 227.3856 - mae: 227.8856 - val_loss: 1272.1516 - val_mae: 1272.6516\n",
            "Epoch 10/30\n",
            "14/14 [==============================] - 0s 21ms/step - loss: 227.3754 - mae: 227.8754 - val_loss: 1272.1414 - val_mae: 1272.6414\n",
            "Epoch 11/30\n",
            "14/14 [==============================] - 0s 22ms/step - loss: 227.3654 - mae: 227.8654 - val_loss: 1272.1312 - val_mae: 1272.6312\n",
            "Epoch 12/30\n",
            "14/14 [==============================] - 0s 21ms/step - loss: 227.3553 - mae: 227.8553 - val_loss: 1272.1211 - val_mae: 1272.6211\n",
            "Epoch 13/30\n",
            "14/14 [==============================] - 0s 22ms/step - loss: 227.3453 - mae: 227.8453 - val_loss: 1272.1111 - val_mae: 1272.6111\n",
            "Epoch 14/30\n",
            "14/14 [==============================] - 0s 21ms/step - loss: 227.3352 - mae: 227.8352 - val_loss: 1272.1010 - val_mae: 1272.6010\n",
            "Epoch 15/30\n",
            "14/14 [==============================] - 0s 20ms/step - loss: 227.3251 - mae: 227.8251 - val_loss: 1272.0908 - val_mae: 1272.5908\n",
            "Epoch 16/30\n",
            "14/14 [==============================] - 0s 19ms/step - loss: 227.3150 - mae: 227.8150 - val_loss: 1272.0807 - val_mae: 1272.5807\n",
            "Epoch 17/30\n",
            "14/14 [==============================] - 0s 20ms/step - loss: 227.3048 - mae: 227.8048 - val_loss: 1272.0706 - val_mae: 1272.5706\n",
            "Epoch 18/30\n",
            "14/14 [==============================] - 0s 20ms/step - loss: 227.2948 - mae: 227.7948 - val_loss: 1272.0604 - val_mae: 1272.5604\n",
            "Epoch 19/30\n",
            "14/14 [==============================] - 0s 23ms/step - loss: 227.2847 - mae: 227.7847 - val_loss: 1272.0503 - val_mae: 1272.5503\n",
            "Epoch 20/30\n",
            "14/14 [==============================] - 0s 22ms/step - loss: 227.2746 - mae: 227.7746 - val_loss: 1272.0400 - val_mae: 1272.5400\n",
            "Epoch 21/30\n",
            "14/14 [==============================] - 0s 21ms/step - loss: 227.2645 - mae: 227.7645 - val_loss: 1272.0298 - val_mae: 1272.5298\n",
            "Epoch 22/30\n",
            "14/14 [==============================] - 0s 21ms/step - loss: 227.2544 - mae: 227.7544 - val_loss: 1272.0197 - val_mae: 1272.5197\n",
            "Epoch 23/30\n",
            "14/14 [==============================] - 0s 21ms/step - loss: 227.2443 - mae: 227.7443 - val_loss: 1272.0095 - val_mae: 1272.5095\n",
            "Epoch 24/30\n",
            "14/14 [==============================] - 0s 20ms/step - loss: 227.2342 - mae: 227.7342 - val_loss: 1271.9995 - val_mae: 1272.4995\n",
            "Epoch 25/30\n",
            "14/14 [==============================] - 0s 20ms/step - loss: 227.2241 - mae: 227.7241 - val_loss: 1271.9893 - val_mae: 1272.4893\n",
            "Epoch 26/30\n",
            "14/14 [==============================] - 0s 20ms/step - loss: 227.2140 - mae: 227.7140 - val_loss: 1271.9790 - val_mae: 1272.4790\n",
            "Epoch 27/30\n",
            "14/14 [==============================] - 0s 21ms/step - loss: 227.2039 - mae: 227.7039 - val_loss: 1271.9689 - val_mae: 1272.4689\n",
            "Epoch 28/30\n",
            "14/14 [==============================] - 0s 22ms/step - loss: 227.1938 - mae: 227.6938 - val_loss: 1271.9586 - val_mae: 1272.4586\n",
            "Epoch 29/30\n",
            "14/14 [==============================] - 0s 21ms/step - loss: 227.1837 - mae: 227.6837 - val_loss: 1271.9486 - val_mae: 1272.4486\n",
            "Epoch 30/30\n",
            "14/14 [==============================] - 0s 21ms/step - loss: 227.1736 - mae: 227.6736 - val_loss: 1271.9382 - val_mae: 1272.4382\n"
          ],
          "name": "stdout"
        }
      ]
    },
    {
      "cell_type": "code",
      "metadata": {
        "colab": {
          "base_uri": "https://localhost:8080/",
          "height": 619
        },
        "id": "xPuWJtv8hMGJ",
        "outputId": "6d0af17f-5cdb-4ba5-b186-d1f0c2f8896a"
      },
      "source": [
        "#Plot Model Train\n",
        "plt.plot(history.history['mae'])\n",
        "plt.plot(history.history['val_mae'])\n",
        "plt.title('MAE')\n",
        "plt.ylabel('mae')\n",
        "plt.xlabel('epoch')\n",
        "plt.legend(['train', 'test'], loc='upper right')\n",
        "plt.show()\n",
        "\n",
        "#Plot Model Test\n",
        "plt.plot(history.history['loss'])\n",
        "plt.plot(history.history['val_loss'])\n",
        "plt.title('Model Loss')\n",
        "plt.ylabel('loss')\n",
        "plt.xlabel('epoch')\n",
        "plt.legend(['train', 'test'], loc='upper right')\n",
        "plt.show()"
      ],
      "execution_count": 19,
      "outputs": [
        {
          "output_type": "display_data",
          "data": {
            "image/png": "[encoded data removed]",
            "text/plain": [
              "<Figure size 432x288 with 1 Axes>"
            ]
          },
          "metadata": {
            "tags": [],
            "needs_background": "light"
          }
        },
        {
          "output_type": "display_data",
          "data": {
            "image/png": "[encoded data removed]",
            "text/plain": [
              "<Figure size 432x288 with 1 Axes>"
            ]
          },
          "metadata": {
            "tags": [],
            "needs_background": "light"
          }
        }
      ]
    },
    {
      "cell_type": "markdown",
      "metadata": {
        "id": "kqDXPeSPjmYJ"
      },
      "source": [
        "Model telah baik dan tidak melebihi batas 10% MAE, namun model terlihat overfitting sehingga saat digunakan di test set MAE lebih dari batas dan tidak baik."
      ]
    }
  ]
}
{
  "cells": [
    {
      "cell_type": "markdown",
      "source": [
        "# **Data Diri**\n",
        "Nama : Isaac Dwadattusyah Haikal Azziz\n",
        "\n",
        "Kota Pasuruan, Jawa Timur\n",
        "\n",
        "Proyek Dicoding Klasifikasi Batu Gunting Kertas (Pembaruan Sertifikat)"
      ],
      "metadata": {
        "id": "4qqyN5QLqpeN"
      }
    },
    {
      "cell_type": "markdown",
      "source": [
        "# **Dependencies & Preprocessing**"
      ],
      "metadata": {
        "id": "Mdi2l1X5RVyF"
      }
    },
    {
      "cell_type": "code",
      "source": [
        "#Install Dependencies not in colab\n",
        "!pip install wget\n",
        "!pip install split-folders\n",
        "!pip install split-folders tqdm"
      ],
      "metadata": {
        "colab": {
          "base_uri": "https://localhost:8080/"
        },
        "id": "8Gc2FkcucOsW",
        "outputId": "7ecd979d-fd96-44d5-84f2-b571a518deb7"
      },
      "execution_count": 1,
      "outputs": [
        {
          "output_type": "stream",
          "name": "stdout",
          "text": [
            "Looking in indexes: https://pypi.org/simple, https://us-python.pkg.dev/colab-wheels/public/simple/\n",
            "Collecting wget\n",
            "  Downloading wget-3.2.zip (10 kB)\n",
            "Building wheels for collected packages: wget\n",
            "  Building wheel for wget (setup.py) ... \u001b[?25l\u001b[?25hdone\n",
            "  Created wheel for wget: filename=wget-3.2-py3-none-any.whl size=9675 sha256=c6cce760a55159d3563e57c804ea429fc3986dcbd5464f612b55bba2be56b897\n",
            "  Stored in directory: /root/.cache/pip/wheels/a1/b6/7c/0e63e34eb06634181c63adacca38b79ff8f35c37e3c13e3c02\n",
            "Successfully built wget\n",
            "Installing collected packages: wget\n",
            "Successfully installed wget-3.2\n",
            "Looking in indexes: https://pypi.org/simple, https://us-python.pkg.dev/colab-wheels/public/simple/\n",
            "Collecting split-folders\n",
            "  Downloading split_folders-0.5.1-py3-none-any.whl (8.4 kB)\n",
            "Installing collected packages: split-folders\n",
            "Successfully installed split-folders-0.5.1\n",
            "Looking in indexes: https://pypi.org/simple, https://us-python.pkg.dev/colab-wheels/public/simple/\n",
            "Requirement already satisfied: split-folders in /usr/local/lib/python3.7/dist-packages (0.5.1)\n",
            "Requirement already satisfied: tqdm in /usr/local/lib/python3.7/dist-packages (4.64.0)\n"
          ]
        }
      ]
    },
    {
      "cell_type": "code",
      "execution_count": 2,
      "metadata": {
        "id": "q1YZHj9wtKLA"
      },
      "outputs": [],
      "source": [
        "#Dependencies\n",
        "import zipfile\n",
        "import os\n",
        "import time\n",
        "import wget\n",
        "import splitfolders\n",
        "\n",
        "import pandas as pd\n",
        "import tensorflow as tf\n",
        "import numpy as np\n",
        "import matplotlib.pyplot as plt\n",
        "import matplotlib.image as mpimg\n",
        "import keras\n",
        "\n",
        "\n",
        "from tensorflow.keras.optimizers import RMSprop, Adam\n",
        "from tensorflow.keras.utils import load_img, img_to_array\n",
        "from tensorflow.keras.preprocessing.image import ImageDataGenerator\n",
        "from keras.models import Sequential\n",
        "from keras.layers import Dense, Activation, Flatten, Conv2D, MaxPooling2D, Dropout\n",
        "from keras.callbacks import ModelCheckpoint, EarlyStopping\n",
        "\n",
        "from google.colab import files\n",
        "%matplotlib inline"
      ]
    },
    {
      "cell_type": "code",
      "execution_count": 3,
      "metadata": {
        "id": "YS-etXf3z_nQ"
      },
      "outputs": [],
      "source": [
        "#Download File\n",
        "url = 'https://github.com/dicodingacademy/assets/releases/download/release/rockpaperscissors.zip'\n",
        "#des = 'D:/[P]roject/Pasca-Kuliah/Course/Dicoding/Project/Data/' (Abaikan)\n",
        "des = '/tmp/'\n",
        "filename = wget.download(url, out=des)"
      ]
    },
    {
      "cell_type": "code",
      "execution_count": 4,
      "metadata": {
        "id": "7yHS2vuk2Xf0"
      },
      "outputs": [],
      "source": [
        "#Persiapan Directory\n",
        "#tempat_file = 'D:/[P]roject/Pasca-Kuliah/Course/Dicoding/Project/Data/rockpaperscissors.zip'\n",
        "#tempat_unzip = 'D:/[P]roject/Pasca-Kuliah/Course/Dicoding/Project/Data/'\n",
        "#tempat_data = 'D:/[P]roject/Pasca-Kuliah/Course/Dicoding/Project/Data/rockpaperscissors/rps-cv-images/'\n",
        "tempat_file = '/tmp/rockpaperscissors.zip'\n",
        "tempat_unzip = '/tmp/'\n",
        "tempat_data = '/tmp/rockpaperscissors/rps-cv-images/'"
      ]
    },
    {
      "cell_type": "code",
      "execution_count": 5,
      "metadata": {
        "colab": {
          "base_uri": "https://localhost:8080/"
        },
        "id": "HZ1XIoWxpoQP",
        "outputId": "c875222d-3782-4428-cc55-11ce381cfbcd"
      },
      "outputs": [
        {
          "output_type": "execute_result",
          "data": {
            "text/plain": [
              "['rock', 'paper', 'scissors']"
            ]
          },
          "metadata": {},
          "execution_count": 5
        }
      ],
      "source": [
        "#Proses Unzip & Delete file tidak dibutuhkan, Serta list dari directory gambar\n",
        "with zipfile.ZipFile(tempat_file, 'r') as zip_ref:\n",
        "     zip_ref.extractall(tempat_unzip)\n",
        "     zip_ref.close()\n",
        "\n",
        "tempat_file_delete = tempat_data + 'README_rpc-cv-images.txt'\n",
        "os.remove(tempat_file_delete)\n",
        "os.listdir(tempat_data)"
      ]
    },
    {
      "cell_type": "code",
      "source": [
        "#Memisah Folder & Split Train Val Dataset\n",
        "tempat_split = tempat_data + 'datasplit/'\n",
        "splitfolders.ratio(tempat_data, \n",
        "                   output = tempat_split, \n",
        "                   seed=None, \n",
        "                   ratio=(.6,.4))"
      ],
      "metadata": {
        "colab": {
          "base_uri": "https://localhost:8080/"
        },
        "id": "vS-gJQKAS9dw",
        "outputId": "3484aa69-d2cf-46a4-bdf4-844000c3e5b0"
      },
      "execution_count": 6,
      "outputs": [
        {
          "output_type": "stream",
          "name": "stderr",
          "text": [
            "Copying files: 2188 files [00:00, 2261.28 files/s]\n"
          ]
        }
      ]
    },
    {
      "cell_type": "code",
      "source": [
        "#Membuat Variabel Directory dari Masing-masing Kategori\n",
        "\n",
        "#Folder Paper (Kertas)\n",
        "paper_dir = os.path.join(tempat_data + 'paper')\n",
        "train_paper_dir = os.path.join(tempat_split + 'train/paper')\n",
        "val_paper_dir = os.path.join(tempat_split + 'val/paper')\n",
        "\n",
        "#Folder Rock (Batu)\n",
        "rock_dir = os.path.join(tempat_data + 'rock')\n",
        "train_rock_dir = os.path.join(tempat_split + 'train/rock')\n",
        "val_rock_dir = os.path.join(tempat_split + 'val/rock')\n",
        "\n",
        "#Folder Scissors (Gunting)\n",
        "scis_dir = os.path.join(tempat_data + 'scissors')\n",
        "train_scis_dir = os.path.join(tempat_split + 'train/scissors')\n",
        "val_scis_dir = os.path.join(tempat_split + 'val/scissors')"
      ],
      "metadata": {
        "id": "Ny2zhf--Tm6t"
      },
      "execution_count": 7,
      "outputs": []
    },
    {
      "cell_type": "code",
      "source": [
        "#List Banyak Gambar\n",
        "jt_perkelas = [len(os.listdir(paper_dir)), len(os.listdir(rock_dir)), len(os.listdir(scis_dir))]\n",
        "jt_train_perkelas = [len(os.listdir(train_paper_dir)), len(os.listdir(train_rock_dir)), len(os.listdir(train_scis_dir))]\n",
        "jt_val_perkelas = [len(os.listdir(val_paper_dir)), len(os.listdir(val_rock_dir)), len(os.listdir(val_scis_dir))]\n",
        "\n",
        "nama = ['Kertas', 'Batu', 'Gunting']\n",
        "data_jumlah = list(zip(nama, jt_perkelas, jt_train_perkelas, jt_val_perkelas))\n",
        "data_jumlah = pd.DataFrame(data_jumlah, columns = ['Kelas', 'Jumlah Total', 'Jumlah Train', 'Jumlah Val'])\n",
        "row_total = ['Total', sum(data_jumlah['Jumlah Total']), sum(data_jumlah['Jumlah Train']), sum(data_jumlah['Jumlah Val'])]\n",
        "data_jumlah = data_jumlah.append(pd.Series(row_total, index=data_jumlah.columns[:len(row_total)]), ignore_index=True)\n",
        "\n",
        "print(data_jumlah)"
      ],
      "metadata": {
        "colab": {
          "base_uri": "https://localhost:8080/"
        },
        "id": "nXZPW4T6XGam",
        "outputId": "85c439ee-c2b8-497f-de1a-d8e959052151"
      },
      "execution_count": 8,
      "outputs": [
        {
          "output_type": "stream",
          "name": "stdout",
          "text": [
            "     Kelas  Jumlah Total  Jumlah Train  Jumlah Val\n",
            "0   Kertas           712           427         285\n",
            "1     Batu           726           435         291\n",
            "2  Gunting           750           450         300\n",
            "3    Total          2188          1312         876\n"
          ]
        }
      ]
    },
    {
      "cell_type": "markdown",
      "source": [
        "# **Data Augmentation & Splitting**"
      ],
      "metadata": {
        "id": "WgKFgmo-RgWG"
      }
    },
    {
      "cell_type": "code",
      "execution_count": 9,
      "metadata": {
        "id": "qm7W92NEr1GA"
      },
      "outputs": [],
      "source": [
        "#Augmentasi Data\n",
        "dir_train = tempat_split + 'train'\n",
        "DataTrain = ImageDataGenerator(rescale=1./255)\n",
        "\n",
        "dir_val = tempat_split + 'val'\n",
        "DataVal = ImageDataGenerator(rescale=1./255)"
      ]
    },
    {
      "cell_type": "code",
      "execution_count": 10,
      "metadata": {
        "colab": {
          "base_uri": "https://localhost:8080/"
        },
        "id": "ZA8-HN10sw-p",
        "outputId": "0816bf04-3aca-43c3-8b6c-60522c570e7b"
      },
      "outputs": [
        {
          "output_type": "stream",
          "name": "stdout",
          "text": [
            "Found 1312 images belonging to 3 classes.\n",
            "Found 876 images belonging to 3 classes.\n"
          ]
        }
      ],
      "source": [
        "#Proses Augmentasi Data & Train Test Split\n",
        "TrainDat = DataTrain.flow_from_directory(\n",
        "    dir_train,\n",
        "    target_size=(250, 250),\n",
        "    batch_size=32,\n",
        "    class_mode='categorical',\n",
        ")\n",
        "\n",
        "ValDat = DataVal.flow_from_directory(\n",
        "    dir_val,\n",
        "    target_size=(250, 250),\n",
        "    batch_size=32,\n",
        "    class_mode='categorical',\n",
        ")"
      ]
    },
    {
      "cell_type": "markdown",
      "source": [
        "# **Model Training**"
      ],
      "metadata": {
        "id": "MMSCqdlERo1Y"
      }
    },
    {
      "cell_type": "code",
      "execution_count": 11,
      "metadata": {
        "colab": {
          "base_uri": "https://localhost:8080/"
        },
        "id": "pEAFyBU9xJbZ",
        "outputId": "fbb3cb62-eb27-4abc-952b-275aa6a5fa2b"
      },
      "outputs": [
        {
          "output_type": "stream",
          "name": "stdout",
          "text": [
            "Model: \"sequential\"\n",
            "_________________________________________________________________\n",
            " Layer (type)                Output Shape              Param #   \n",
            "=================================================================\n",
            " conv2d (Conv2D)             (None, 248, 248, 32)      896       \n",
            "                                                                 \n",
            " max_pooling2d (MaxPooling2D  (None, 124, 124, 32)     0         \n",
            " )                                                               \n",
            "                                                                 \n",
            " conv2d_1 (Conv2D)           (None, 122, 122, 64)      18496     \n",
            "                                                                 \n",
            " max_pooling2d_1 (MaxPooling  (None, 61, 61, 64)       0         \n",
            " 2D)                                                             \n",
            "                                                                 \n",
            " conv2d_2 (Conv2D)           (None, 59, 59, 128)       73856     \n",
            "                                                                 \n",
            " max_pooling2d_2 (MaxPooling  (None, 29, 29, 128)      0         \n",
            " 2D)                                                             \n",
            "                                                                 \n",
            " conv2d_3 (Conv2D)           (None, 27, 27, 256)       295168    \n",
            "                                                                 \n",
            " max_pooling2d_3 (MaxPooling  (None, 13, 13, 256)      0         \n",
            " 2D)                                                             \n",
            "                                                                 \n",
            " flatten (Flatten)           (None, 43264)             0         \n",
            "                                                                 \n",
            " dropout (Dropout)           (None, 43264)             0         \n",
            "                                                                 \n",
            " dense (Dense)               (None, 512)               22151680  \n",
            "                                                                 \n",
            " dense_1 (Dense)             (None, 3)                 1539      \n",
            "                                                                 \n",
            "=================================================================\n",
            "Total params: 22,541,635\n",
            "Trainable params: 22,541,635\n",
            "Non-trainable params: 0\n",
            "_________________________________________________________________\n"
          ]
        }
      ],
      "source": [
        "#Buat Model Sequential\n",
        "model = Sequential([\n",
        "\n",
        "    Conv2D(32, (3,3), activation='relu', input_shape=(250, 250, 3)),\n",
        "    MaxPooling2D(2, 2),\n",
        "\n",
        "    Conv2D(64, (3,3), activation='relu'),\n",
        "    MaxPooling2D(2,2),\n",
        "\n",
        "    Conv2D(128, (3,3), activation='relu'),\n",
        "    MaxPooling2D(2,2),\n",
        "\n",
        "    Conv2D(256, (3,3), activation='relu'),\n",
        "    MaxPooling2D(2,2),\n",
        "\n",
        "    Flatten(),\n",
        "    Dropout(0.2),\n",
        "    Dense(512, activation='relu'),\n",
        "    Dense(3, activation='softmax')\n",
        "])\n",
        "\n",
        "model.summary()"
      ]
    },
    {
      "cell_type": "code",
      "execution_count": 12,
      "metadata": {
        "id": "9SY_SuEaxC9X"
      },
      "outputs": [],
      "source": [
        "#Compile Model dengan memakai categorical_crossentropy (karena kategorik dengan kelas > 2)\n",
        "#Optimizer Adam karena Adam > RMSProp & SGD\n",
        "#Metric = Accuracy sesuai permintaan\n",
        "model.compile(loss='categorical_crossentropy',\n",
        "              optimizer='Adam',\n",
        "              metrics=['accuracy'])"
      ]
    },
    {
      "cell_type": "code",
      "source": [
        "#Persiapan Callbacks & Menyimpan Best Weight\n",
        "path_model = des + 'best_weight.hdf5'\n",
        "checkpoint_model = ModelCheckpoint(path_model, monitor='accuracy', verbose=1, save_best_only=True, mode='max')\n",
        "es_model = EarlyStopping(monitor='accuracy', patience=8)\n",
        "list_callbacks = [checkpoint_model, es_model]"
      ],
      "metadata": {
        "id": "7nGaKg54h-bK"
      },
      "execution_count": 13,
      "outputs": []
    },
    {
      "cell_type": "code",
      "execution_count": 14,
      "metadata": {
        "colab": {
          "base_uri": "https://localhost:8080/"
        },
        "id": "IAs8vXAPwE-4",
        "outputId": "287c4ec4-c961-4170-cca2-5e590e8fa1f9"
      },
      "outputs": [
        {
          "output_type": "stream",
          "name": "stdout",
          "text": [
            "Epoch 1/32\n",
            "41/41 [==============================] - ETA: 0s - loss: 1.0318 - accuracy: 0.4619\n",
            "Epoch 1: accuracy improved from -inf to 0.46189, saving model to /tmp/best_weight.hdf5\n",
            "41/41 [==============================] - 20s 148ms/step - loss: 1.0318 - accuracy: 0.4619 - val_loss: 0.6574 - val_accuracy: 0.7375\n",
            "Epoch 2/32\n",
            "41/41 [==============================] - ETA: 0s - loss: 0.4252 - accuracy: 0.8438\n",
            "Epoch 2: accuracy improved from 0.46189 to 0.84375, saving model to /tmp/best_weight.hdf5\n",
            "41/41 [==============================] - 6s 143ms/step - loss: 0.4252 - accuracy: 0.8438 - val_loss: 0.3066 - val_accuracy: 0.8750\n",
            "Epoch 3/32\n",
            "41/41 [==============================] - ETA: 0s - loss: 0.1688 - accuracy: 0.9405\n",
            "Epoch 3: accuracy improved from 0.84375 to 0.94055, saving model to /tmp/best_weight.hdf5\n",
            "41/41 [==============================] - 6s 142ms/step - loss: 0.1688 - accuracy: 0.9405 - val_loss: 0.1482 - val_accuracy: 0.9375\n",
            "Epoch 4/32\n",
            "41/41 [==============================] - ETA: 0s - loss: 0.0757 - accuracy: 0.9733\n",
            "Epoch 4: accuracy improved from 0.94055 to 0.97332, saving model to /tmp/best_weight.hdf5\n",
            "41/41 [==============================] - 6s 142ms/step - loss: 0.0757 - accuracy: 0.9733 - val_loss: 0.0623 - val_accuracy: 0.9875\n",
            "Epoch 5/32\n",
            "41/41 [==============================] - ETA: 0s - loss: 0.0592 - accuracy: 0.9756\n",
            "Epoch 5: accuracy improved from 0.97332 to 0.97561, saving model to /tmp/best_weight.hdf5\n",
            "41/41 [==============================] - 6s 141ms/step - loss: 0.0592 - accuracy: 0.9756 - val_loss: 0.0953 - val_accuracy: 0.9750\n",
            "Epoch 6/32\n",
            "41/41 [==============================] - ETA: 0s - loss: 0.0275 - accuracy: 0.9916\n",
            "Epoch 6: accuracy improved from 0.97561 to 0.99162, saving model to /tmp/best_weight.hdf5\n",
            "41/41 [==============================] - 6s 143ms/step - loss: 0.0275 - accuracy: 0.9916 - val_loss: 0.0330 - val_accuracy: 0.9875\n",
            "Epoch 7/32\n",
            "41/41 [==============================] - ETA: 0s - loss: 0.0127 - accuracy: 0.9947\n",
            "Epoch 7: accuracy improved from 0.99162 to 0.99466, saving model to /tmp/best_weight.hdf5\n",
            "41/41 [==============================] - 7s 160ms/step - loss: 0.0127 - accuracy: 0.9947 - val_loss: 0.1316 - val_accuracy: 0.9625\n",
            "Epoch 8/32\n",
            "41/41 [==============================] - ETA: 0s - loss: 0.0077 - accuracy: 0.9985\n",
            "Epoch 8: accuracy improved from 0.99466 to 0.99848, saving model to /tmp/best_weight.hdf5\n",
            "41/41 [==============================] - 7s 174ms/step - loss: 0.0077 - accuracy: 0.9985 - val_loss: 0.0457 - val_accuracy: 0.9688\n",
            "Epoch 9/32\n",
            "41/41 [==============================] - ETA: 0s - loss: 0.0103 - accuracy: 0.9962\n",
            "Epoch 9: accuracy did not improve from 0.99848\n",
            "41/41 [==============================] - 5s 127ms/step - loss: 0.0103 - accuracy: 0.9962 - val_loss: 0.0235 - val_accuracy: 0.9875\n",
            "Epoch 10/32\n",
            "41/41 [==============================] - ETA: 0s - loss: 0.0586 - accuracy: 0.9825\n",
            "Epoch 10: accuracy did not improve from 0.99848\n",
            "41/41 [==============================] - 5s 128ms/step - loss: 0.0586 - accuracy: 0.9825 - val_loss: 0.0864 - val_accuracy: 0.9750\n",
            "Epoch 11/32\n",
            "41/41 [==============================] - ETA: 0s - loss: 0.0173 - accuracy: 0.9947\n",
            "Epoch 11: accuracy did not improve from 0.99848\n",
            "41/41 [==============================] - 5s 129ms/step - loss: 0.0173 - accuracy: 0.9947 - val_loss: 0.0218 - val_accuracy: 0.9937\n",
            "Epoch 12/32\n",
            "41/41 [==============================] - ETA: 0s - loss: 0.0015 - accuracy: 1.0000\n",
            "Epoch 12: accuracy improved from 0.99848 to 1.00000, saving model to /tmp/best_weight.hdf5\n",
            "41/41 [==============================] - 6s 143ms/step - loss: 0.0015 - accuracy: 1.0000 - val_loss: 0.0832 - val_accuracy: 0.9812\n",
            "Epoch 13/32\n",
            "41/41 [==============================] - ETA: 0s - loss: 1.3549e-04 - accuracy: 1.0000\n",
            "Epoch 13: accuracy did not improve from 1.00000\n",
            "41/41 [==============================] - 5s 127ms/step - loss: 1.3549e-04 - accuracy: 1.0000 - val_loss: 0.0527 - val_accuracy: 0.9688\n",
            "Epoch 14/32\n",
            "41/41 [==============================] - ETA: 0s - loss: 8.3573e-05 - accuracy: 1.0000\n",
            "Epoch 14: accuracy did not improve from 1.00000\n",
            "41/41 [==============================] - 5s 128ms/step - loss: 8.3573e-05 - accuracy: 1.0000 - val_loss: 0.2022 - val_accuracy: 0.9625\n",
            "Epoch 15/32\n",
            "41/41 [==============================] - ETA: 0s - loss: 6.0764e-05 - accuracy: 1.0000\n",
            "Epoch 15: accuracy did not improve from 1.00000\n",
            "41/41 [==============================] - 5s 128ms/step - loss: 6.0764e-05 - accuracy: 1.0000 - val_loss: 0.0713 - val_accuracy: 0.9812\n",
            "Epoch 16/32\n",
            "41/41 [==============================] - ETA: 0s - loss: 3.1128e-05 - accuracy: 1.0000\n",
            "Epoch 16: accuracy did not improve from 1.00000\n",
            "41/41 [==============================] - 5s 128ms/step - loss: 3.1128e-05 - accuracy: 1.0000 - val_loss: 0.0219 - val_accuracy: 0.9812\n",
            "Epoch 17/32\n",
            "41/41 [==============================] - ETA: 0s - loss: 3.0230e-05 - accuracy: 1.0000\n",
            "Epoch 17: accuracy did not improve from 1.00000\n",
            "41/41 [==============================] - 5s 129ms/step - loss: 3.0230e-05 - accuracy: 1.0000 - val_loss: 0.1058 - val_accuracy: 0.9812\n",
            "Epoch 18/32\n",
            "41/41 [==============================] - ETA: 0s - loss: 1.9363e-05 - accuracy: 1.0000\n",
            "Epoch 18: accuracy did not improve from 1.00000\n",
            "41/41 [==============================] - 5s 129ms/step - loss: 1.9363e-05 - accuracy: 1.0000 - val_loss: 0.1086 - val_accuracy: 0.9812\n",
            "Epoch 19/32\n",
            "41/41 [==============================] - ETA: 0s - loss: 2.3735e-05 - accuracy: 1.0000\n",
            "Epoch 19: accuracy did not improve from 1.00000\n",
            "41/41 [==============================] - 5s 129ms/step - loss: 2.3735e-05 - accuracy: 1.0000 - val_loss: 0.1377 - val_accuracy: 0.9688\n",
            "Epoch 20/32\n",
            "41/41 [==============================] - ETA: 0s - loss: 1.4101e-05 - accuracy: 1.0000\n",
            "Epoch 20: accuracy did not improve from 1.00000\n",
            "41/41 [==============================] - 5s 128ms/step - loss: 1.4101e-05 - accuracy: 1.0000 - val_loss: 0.0659 - val_accuracy: 0.9812\n"
          ]
        }
      ],
      "source": [
        "#Time untuk menghitung waktu training\n",
        "start_time = time.time()\n",
        "\n",
        "#Fit Model dengan Callbacks\n",
        "hist = model.fit(\n",
        "        TrainDat,\n",
        "        steps_per_epoch=41,\n",
        "        epochs=32,\n",
        "        validation_data=ValDat,\n",
        "        validation_steps=5,\n",
        "        callbacks=list_callbacks\n",
        "        )\n",
        "\n",
        "#Time untuk menghitung waktu training\n",
        "stop_time = time.time()"
      ]
    },
    {
      "cell_type": "code",
      "source": [
        "#Model Load (Dari Checkpoint)\n",
        "model.load_weights(path_model)\n",
        "model.compile(loss='categorical_crossentropy',\n",
        "              optimizer='Adam',\n",
        "              metrics=['accuracy'])\n",
        "\n",
        "#Waktu dan Akurasi Model\n",
        "print(f\"Waktu Train: {round((stop_time - start_time)/60, 2)} menit\")\n",
        "print()\n",
        "\n",
        "hist_metric = pd.DataFrame([hist.history['accuracy'], hist.history['val_accuracy']]).transpose().round(5)\n",
        "hist_metric.columns = ['Akurasi', 'Val_Akurasi']\n",
        "print(hist_metric[hist_metric['Akurasi'] == max(hist_metric['Akurasi'])].iloc[0])"
      ],
      "metadata": {
        "colab": {
          "base_uri": "https://localhost:8080/"
        },
        "id": "3K2AXZsXjM6e",
        "outputId": "3d1352d4-c6fc-40f2-e7c2-c0cfdf44ee2b"
      },
      "execution_count": 15,
      "outputs": [
        {
          "output_type": "stream",
          "name": "stdout",
          "text": [
            "Waktu Train: 2.28 menit\n",
            "\n",
            "Akurasi        1.00000\n",
            "Val_Akurasi    0.98125\n",
            "Name: 11, dtype: float64\n"
          ]
        }
      ]
    },
    {
      "cell_type": "markdown",
      "source": [
        "Akurasi dari Model adalah 0.96 (Sudah Baik)"
      ],
      "metadata": {
        "id": "iFPj4alE7F6C"
      }
    },
    {
      "cell_type": "code",
      "source": [
        "#Plot Akurasi dan Loss\n",
        "\n",
        "#Mengambil Nilai Akurasi, Jumlah Epoch, & Loss\n",
        "akurasi = hist.history['accuracy']\n",
        "loss = hist.history['loss']\n",
        "n_epoch = range(len(akurasi))\n",
        "val_akurasi = hist.history['val_accuracy']\n",
        "val_loss = hist.history['val_loss']\n",
        "\n",
        "#Plot Akurasi\n",
        "plt.plot(n_epoch, akurasi, 'r', label='Akurasi Train')\n",
        "plt.plot(n_epoch, val_akurasi, 'g', label='Akurasi Validasi')\n",
        "plt.title('Akurasi Train & Validasi')\n",
        "plt.legend(loc=0)\n",
        "plt.figure()\n",
        "plt.show()\n",
        "\n",
        "print(' ')\n",
        "\n",
        "# Plot Loss\n",
        "plt.plot(n_epoch, loss, 'r', label='Loss Train')\n",
        "plt.plot(n_epoch, val_loss, 'g', label='Loss Validasi')\n",
        "plt.title('Loss Train & Validasi')\n",
        "plt.legend(loc=0)\n",
        "plt.figure()\n",
        "plt.show()"
      ],
      "metadata": {
        "colab": {
          "base_uri": "https://localhost:8080/",
          "height": 601
        },
        "id": "yqtvoWpkha1I",
        "outputId": "636b98c9-b583-4047-f751-3947b91d8e10"
      },
      "execution_count": 16,
      "outputs": [
        {
          "output_type": "display_data",
          "data": {
            "text/plain": [
              "<Figure size 432x288 with 1 Axes>"
            ],
            "image/png": "[encoded data removed]"
          },
          "metadata": {
            "needs_background": "light"
          }
        },
        {
          "output_type": "display_data",
          "data": {
            "text/plain": [
              "<Figure size 432x288 with 0 Axes>"
            ]
          },
          "metadata": {}
        },
        {
          "output_type": "stream",
          "name": "stdout",
          "text": [
            " \n"
          ]
        },
        {
          "output_type": "display_data",
          "data": {
            "text/plain": [
              "<Figure size 432x288 with 1 Axes>"
            ],
            "image/png": "[encoded data removed]"
          },
          "metadata": {
            "needs_background": "light"
          }
        },
        {
          "output_type": "display_data",
          "data": {
            "text/plain": [
              "<Figure size 432x288 with 0 Axes>"
            ]
          },
          "metadata": {}
        }
      ]
    },
    {
      "cell_type": "markdown",
      "source": [
        "# **Model Testing (Upload Image)**"
      ],
      "metadata": {
        "id": "gI2gcn9mRsPS"
      }
    },
    {
      "cell_type": "code",
      "execution_count": 17,
      "metadata": {
        "colab": {
          "base_uri": "https://localhost:8080/",
          "height": 364,
          "resources": {
            "http://localhost:8080/nbextensions/google.colab/files.js": {
              "data": "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",
              "headers": [
                [
                  "content-type",
                  "application/javascript"
                ]
              ],
              "ok": true,
              "status": 200,
              "status_text": ""
            }
          }
        },
        "id": "VRnXB0i-H75P",
        "outputId": "05a94140-8df3-4f52-d3f0-d2f6d67ff2f7"
      },
      "outputs": [
        {
          "output_type": "display_data",
          "data": {
            "text/plain": [
              "<IPython.core.display.HTML object>"
            ],
            "text/html": [
              "\n",
              "     <input type=\"file\" id=\"files-4de37e7b-faeb-408a-9172-e1ffa7f280ee\" name=\"files[]\" multiple disabled\n",
              "        style=\"border:none\" />\n",
              "     <output id=\"result-4de37e7b-faeb-408a-9172-e1ffa7f280ee\">\n",
              "      Upload widget is only available when the cell has been executed in the\n",
              "      current browser session. Please rerun this cell to enable.\n",
              "      </output>\n",
              "      <script src=\"/nbextensions/google.colab/files.js\"></script> "
            ]
          },
          "metadata": {}
        },
        {
          "output_type": "stream",
          "name": "stdout",
          "text": [
            "Saving 00nKV8oHuTGi20gq.png to 00nKV8oHuTGi20gq.png\n",
            "00nKV8oHuTGi20gq.png\n",
            "Rock (Batu)\n"
          ]
        },
        {
          "output_type": "display_data",
          "data": {
            "text/plain": [
              "<Figure size 432x288 with 1 Axes>"
            ],
            "image/png": "[encoded data removed]"
          },
          "metadata": {
            "needs_background": "light"
          }
        }
      ],
      "source": [
        "#Files Upload\n",
        "uploaded = files.upload()\n",
        "\n",
        "#Image Prediction\n",
        "for fn in uploaded.keys():\n",
        "  path = fn\n",
        "  img = load_img(path, target_size=(250,250))\n",
        "  imgplot = plt.imshow(img)\n",
        "  x = img_to_array(img)\n",
        "  x = np.expand_dims(x, axis=0)\n",
        " \n",
        "  images = np.vstack([x])\n",
        "  classes = model.predict(images, batch_size=10)\n",
        "  \n",
        "  print(fn)\n",
        "  if classes[0][0]==1:\n",
        "    print('Paper (Kertas)')\n",
        "  elif classes[0][1]==1:\n",
        "    print('Rock (Batu)')\n",
        "  elif classes[0][2]==1:\n",
        "    print('Scissor (Gunting)')\n",
        "  else:\n",
        "    print('Undetected (Tidak Terdeteksi)')"
      ]
    },
    {
      "cell_type": "markdown",
      "source": [
        "Model Memprediksi Dengan Benar"
      ],
      "metadata": {
        "id": "Os3mLURfqipa"
      }
    }
  ],
  "metadata": {
    "accelerator": "GPU",
    "colab": {
      "collapsed_sections": [],
      "provenance": []
    },
    "kernelspec": {
      "display_name": "Python 3.10.5 64-bit",
      "language": "python",
      "name": "python3"
    },
    "language_info": {
      "codemirror_mode": {
        "name": "ipython",
        "version": 3
      },
      "file_extension": ".py",
      "mimetype": "text/x-python",
      "name": "python",
      "nbconvert_exporter": "python",
      "pygments_lexer": "ipython3",
      "version": "3.10.5"
    },
    "vscode": {
      "interpreter": {
        "hash": "0d72b21489300652f2337cd7f80c57cc00ce6bbc92cf98d285c178d0a8ced433"
      }
    },
    "gpuClass": "standard"
  },
  "nbformat": 4,
  "nbformat_minor": 0
}